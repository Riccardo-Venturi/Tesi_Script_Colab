{
  "nbformat": 4,
  "nbformat_minor": 0,
  "metadata": {
    "colab": {
      "private_outputs": true,
      "provenance": [],
      "mount_file_id": "1agh2n_KR4ji3gioeCiJtZt6Kg498vTZS",
      "authorship_tag": "ABX9TyOyEuwu4ZH0uQvUHTXc9Jst",
      "include_colab_link": true
    },
    "kernelspec": {
      "name": "python3",
      "display_name": "Python 3"
    },
    "language_info": {
      "name": "python"
    }
  },
  "cells": [
    {
      "cell_type": "markdown",
      "metadata": {
        "id": "view-in-github",
        "colab_type": "text"
      },
      "source": [
        "<a href=\"https://colab.research.google.com/github/Riccardo-Venturi/Tesi_Script_Colab/blob/main/MAsk_FActory.ipynb\" target=\"_parent\"><img src=\"https://colab.research.google.com/assets/colab-badge.svg\" alt=\"Open In Colab\"/></a>"
      ]
    },
    {
      "cell_type": "markdown",
      "source": [
        "**\"Fabbrica di Maschere\" (Mask Factory)**. Un singolo script che:\n",
        "1.  Prende in input tutte le 354 patch che hai creato.\n",
        "2.  Applica una serie di filtri e soglie intelligenti per identificare automaticamente le tre regioni: **Sfondo, Foro, Danno**.\n",
        "3.  \"Pulisce\" il risultato per rimuovere il rumore.\n",
        "4.  Salva una maschera numerica (0, 1, 2) per ogni patch, pronta per essere data in pasto alla U-Net.\n"
      ],
      "metadata": {
        "id": "bmaUZztA8CTG"
      }
    },
    {
      "cell_type": "code",
      "source": [
        "!file /content/Radio_Patches_Output.zip"
      ],
      "metadata": {
        "id": "ulCKctufKWqM"
      },
      "execution_count": null,
      "outputs": []
    },
    {
      "cell_type": "code",
      "source": [
        "!unzip \"/content/Radio_Patches_Output\""
      ],
      "metadata": {
        "id": "wGRa1VxZJvOe"
      },
      "execution_count": null,
      "outputs": []
    },
    {
      "cell_type": "code",
      "source": [
        "!pip install opencv-python\n",
        "!pip install tqdm"
      ],
      "metadata": {
        "id": "JxY82OhEJdOd"
      },
      "execution_count": null,
      "outputs": []
    },
    {
      "cell_type": "markdown",
      "source": [
        "TEST parametri"
      ],
      "metadata": {
        "id": "7zh0o2AmT3Yk"
      }
    },
    {
      "cell_type": "code",
      "source": [
        "#### La Logica della \"Mask Factory v5\" (Il Piano Definitivo)\n",
        "##\n",
        "##1.  **Trova il Foro Principale:** Usa `HoughCircles` sull'immagine originale per trovare il cerchio del foro. Questo ci dà un centro e un raggio \"di riferimento\". Questa è la nostra ancora geometrica.\n",
        "##2.  **Crea una Maschera di Interesse per il Foro:** Disegna un cerchio pieno basato sul riferimento trovato. Considereremo \"foro\" (Classe 1) solo i pixel che sono molto chiari (`>THRESHOLD_FORO`) **E** cadono all'interno di questo cerchio. Questo elimina immediatamente la freccia e i bordi.\n",
        "##3.  **Crea una Maschera di Interesse per il Danno:** Prende il cerchio di riferimento e lo \"ingrassa\" (`dilate`) di `ROI_DILATION_PIXELS`. Questa è la nostra \"ciambella\" di ricerca del danno.\n",
        "##4.  **Trova il Danno:** Considereremo \"danno\" (Classe 2) solo i pixel che sono molto scuri (`<THRESHOLD_DANNO`) **E** cadono all'interno della \"ciambella\".\n",
        "##5.  **Pulizia Finale:** Applica la pulizia dei piccoli blob solo sul danno trovato, per eliminare il rumore residuo.\n",
        "##6.  **Assemblaggio:** Unisce la maschera del foro pulita e la maschera del danno pulita.\n",
        "##\n",
        "##Questo approccio è top-down: prima definisce la geometria e poi la usa per qualificare i pixel. È molto più robusto di un approccio bottom-up (qualifica i pixel e poi cerca di capire la geometria).\n",
        "##\n",
        "##---\n",
        "##\n",
        "##### CELLA UNICA: \"Mask Factory v5\" con QA\n",
        "##\n",
        "##Questo script sostituisce tutto il processo precedente. È autonomo e produce l'output finale (maschere e QA) in un colpo solo.\n",
        "##\n",
        "##```python\n",
        "# MASK FACTORY v5 - APPROCCIO TOP-DOWN CON GEOMETRIA\n",
        "import cv2\n",
        "import numpy as np\n",
        "import os\n",
        "from pathlib import Path\n",
        "from tqdm.notebook import tqdm\n",
        "import shutil\n",
        "\n",
        "# --- IMPOSTAZIONI GLOBALI E PARAMETRI DI TUNING ---\n",
        "# Cartella radice con le patch originali\n",
        "BASE_PATCH_DIR = Path(\"/content/drive/MyDrive/RadioPatches/Carbon Textile 3B\")\n",
        "\n",
        "# Cartelle di output finali\n",
        "FINAL_MASK_DIR = Path(\"/content/Radio_Masks_Final_v5\")\n",
        "FINAL_QA_DIR = Path(\"/content/Radio_QA_Final_v5\")\n",
        "\n",
        "# Parametri per i pixel\n",
        "THRESHOLD_DANNO = 45\n",
        "THRESHOLD_FORO = 240\n",
        "\n",
        "# Parametri per la geometria del FORO\n",
        "HOUGH_DP = 1.2\n",
        "HOUGH_MINDIST = 400\n",
        "HOUGH_PARAM1 = 50\n",
        "HOUGH_PARAM2 = 25\n",
        "HOUGH_MINRADIUS = 135\n",
        "HOUGH_MAXRADIUS = 150\n",
        "\n",
        "# Parametri per la geometria del DANNO\n",
        "# Definisce lo spessore della \"ciambella\" di ricerca attorno al foro\n",
        "ROI_DILATION_PIXELS = 48\n",
        "\n",
        "# Parametri per la pulizia finale\n",
        "MIN_AREA_PULIZIA_DANNO = 44\n",
        "\n",
        "# --- SCRIPT ---\n",
        "# Pulizia delle cartelle di output per un'esecuzione pulita\n",
        "for d in [FINAL_MASK_DIR, FINAL_QA_DIR]:\n",
        "    if d.exists():\n",
        "        shutil.rmtree(d)\n",
        "    d.mkdir(exist_ok=True, parents=True)\n",
        "\n",
        "all_patch_files = sorted(BASE_PATCH_DIR.glob(\"**/*.jpg\"))\n",
        "print(f\"Trovate {len(all_patch_files)} patch totali da processare.\")\n",
        "\n",
        "for patch_path in tqdm(all_patch_files, desc=\"Creo maschere v5...\"):\n",
        "    img_gray = cv2.imread(str(patch_path), cv2.IMREAD_GRAYSCALE)\n",
        "    if img_gray is None: continue\n",
        "\n",
        "    # --- 1. TROVA IL RIFERIMENTO GEOMETRICO (IL CERCHIO DEL FORO) ---\n",
        "    # Usiamo una versione sfocata dell'immagine per rendere Hough più robusto\n",
        "    blurred_img = cv2.GaussianBlur(img_gray, (5, 5), 0)\n",
        "    circles = cv2.HoughCircles(blurred_img, cv2.HOUGH_GRADIENT, dp=HOUGH_DP, minDist=HOUGH_MINDIST,\n",
        "                               param1=HOUGH_PARAM1, param2=HOUGH_PARAM2, minRadius=HOUGH_MINRADIUS, maxRadius=HOUGH_MAXRADIUS)\n",
        "\n",
        "    if circles is None:\n",
        "        print(f\"⚠️ NESSUN CERCHIO TROVATO IN: {patch_path.name}. Salto.\")\n",
        "        continue\n",
        "\n",
        "    # Prendi il cerchio più forte (di solito l'unico)\n",
        "    c = np.uint16(np.around(circles))[0, 0]\n",
        "    center, radius = (c[0], c[1]), c[2]\n",
        "\n",
        "    # --- 2. ISOLA IL FORO USANDO LA GEOMETRIA ---\n",
        "    # Crea la maschera del cerchio ideale\n",
        "    foro_geom_mask = np.zeros_like(img_gray)\n",
        "    cv2.circle(foro_geom_mask, center, radius, 255, -1)\n",
        "\n",
        "    # Trova i pixel chiari\n",
        "    _, foro_pixel_mask = cv2.threshold(img_gray, THRESHOLD_FORO, 255, cv2.THRESH_BINARY)\n",
        "\n",
        "    # Il vero foro è l'intersezione tra la geometria e i pixel chiari\n",
        "    foro_finale_mask = cv2.bitwise_and(foro_pixel_mask, foro_geom_mask)\n",
        "\n",
        "    # --- 3. ISOLA IL DANNO USANDO LA GEOMETRIA ---\n",
        "    # Crea la \"ciambella\" di interesse per il danno\n",
        "    roi_kernel = np.ones((ROI_DILATION_PIXELS, ROI_DILATION_PIXELS), np.uint8)\n",
        "    danno_geom_mask = cv2.dilate(foro_geom_mask, roi_kernel, iterations=1)\n",
        "\n",
        "    # Trova i pixel scuri\n",
        "    _, danno_pixel_mask = cv2.threshold(img_gray, THRESHOLD_DANNO, 255, cv2.THRESH_BINARY_INV)\n",
        "\n",
        "    # Il danno potenziale è l'intersezione tra la ciambella e i pixel scuri\n",
        "    danno_potenziale_mask = cv2.bitwise_and(danno_pixel_mask, danno_geom_mask)\n",
        "\n",
        "    # --- 4. PULIZIA FINALE DEL DANNO ---\n",
        "    num_labels, labels, stats, _ = cv2.connectedComponentsWithStats(danno_potenziale_mask, connectivity=8)\n",
        "    danno_pulito_mask = np.zeros_like(danno_potenziale_mask)\n",
        "    for i in range(1, num_labels):\n",
        "        if stats[i, cv2.CC_STAT_AREA] >= MIN_AREA_PULIZIA_DANNO:\n",
        "            danno_pulito_mask[labels == i] = 255\n",
        "\n",
        "    # --- 5. ASSEMBLAGGIO E SALVATAGGIO ---\n",
        "    final_mask = np.zeros_like(img_gray, dtype=np.uint8)\n",
        "    final_mask[foro_finale_mask == 255] = 1\n",
        "    final_mask[danno_pulito_mask == 255] = 2\n",
        "\n",
        "    # Salva la maschera numerica\n",
        "    mask_save_path = FINAL_MASK_DIR / patch_path.relative_to(BASE_PATCH_DIR).with_suffix(\".png\")\n",
        "    mask_save_path.parent.mkdir(exist_ok=True, parents=True)\n",
        "    cv2.imwrite(str(mask_save_path), final_mask)\n",
        "\n",
        "    # Crea e salva il QA\n",
        "    img_color = cv2.cvtColor(img_gray, cv2.COLOR_GRAY2BGR)\n",
        "    qa_overlay = img_color.copy()\n",
        "    qa_overlay[final_mask == 1] = [100, 100, 255]\n",
        "    qa_overlay[final_mask == 2] = [0, 220, 220]\n",
        "    qa_final = cv2.addWeighted(img_color, 0.6, qa_overlay, 0.4, 0)\n",
        "\n",
        "    qa_save_path = FINAL_QA_DIR / patch_path.relative_to(BASE_PATCH_DIR)\n",
        "    qa_save_path.parent.mkdir(exist_ok=True, parents=True)\n",
        "    cv2.imwrite(str(qa_save_path), qa_final)\n",
        "\n",
        "print(\"\\n🎉 Processo completato! Controlla i risultati in:\")\n",
        "print(f\"✅ Maschere finali: {FINAL_MASK_DIR}\")\n",
        "print(f\"✅ Immagini di QA: {FINAL_QA_DIR}\")"
      ],
      "metadata": {
        "id": "2i_eC9VCT5fI"
      },
      "execution_count": null,
      "outputs": []
    },
    {
      "cell_type": "code",
      "source": [],
      "metadata": {
        "id": "u1O84GRdRKPk"
      },
      "execution_count": null,
      "outputs": []
    },
    {
      "cell_type": "code",
      "source": [
        "#@title visualizza aschere\n",
        "import cv2, numpy as np, matplotlib.pyplot as plt\n",
        "\n",
        "mask = cv2.imread(\"/content/Radio_Masks_Cleaned/H001_h001_Carbon Textile 1A.png\", 0)#\"/content/unet_dataset_multiclasse/masks/hole_0001.png\", 0)\n",
        "vis  = (mask * 120).astype(np.uint8)   #   0→0, 1→120, 2→240  (solo per VEDERE)\n",
        "plt.imshow(vis, cmap='inferno'); plt.axis('off')\n"
      ],
      "metadata": {
        "id": "wW95HS5SEn5b"
      },
      "execution_count": null,
      "outputs": []
    },
    {
      "cell_type": "code",
      "source": [
        "# SCRIPT PER Zippare i risultati\n",
        "import shutil\n",
        "\n",
        "# Assicurati di usare i nomi delle cartelle corrette\n",
        "output_zip_filename = \"Radio_Maschere_3B\"\n",
        "dir_to_zip = \"/content/Radio_Masks_Final_v5\"\n",
        "\n",
        "shutil.make_archive(output_zip_filename, 'zip', dir_to_zip)\n",
        "print(f\"✅ Creato file '{output_zip_filename}.zip' con le maschere numeriche.\")\n",
        "\n",
        "output_zip_filename_qa = \"Radio_QA_3B\"\n",
        "dir_to_zip_qa = \"/content/Radio_QA_Final_v5\"\n",
        "\n",
        "shutil.make_archive(output_zip_filename_qa, 'zip', dir_to_zip_qa)\n",
        "print(f\"✅ Creato file '{output_zip_filename_qa}.zip' con le immagini di controllo.\")"
      ],
      "metadata": {
        "id": "eN6gpZmn-037"
      },
      "execution_count": null,
      "outputs": []
    }
  ]
}