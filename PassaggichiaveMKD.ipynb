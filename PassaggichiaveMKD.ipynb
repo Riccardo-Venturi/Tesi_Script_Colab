{
  "nbformat": 4,
  "nbformat_minor": 0,
  "metadata": {
    "colab": {
      "private_outputs": true,
      "provenance": [],
      "authorship_tag": "ABX9TyMi0eDaae/4XC4y/FURJ+Bz",
      "include_colab_link": true
    },
    "kernelspec": {
      "name": "python3",
      "display_name": "Python 3"
    },
    "language_info": {
      "name": "python"
    }
  },
  "cells": [
    {
      "cell_type": "markdown",
      "metadata": {
        "id": "view-in-github",
        "colab_type": "text"
      },
      "source": [
        "<a href=\"https://colab.research.google.com/github/Riccardo-Venturi/Tesi_Script_Colab/blob/main/PassaggichiaveMKD.ipynb\" target=\"_parent\"><img src=\"https://colab.research.google.com/assets/colab-badge.svg\" alt=\"Open In Colab\"/></a>"
      ]
    },
    {
      "cell_type": "markdown",
      "source": [
        "#### **Fase 1: La Scansione Originale (Il Mondo Reale in Pixel)**\n",
        "\n",
        "*   **Immagine di Riferimento:** `T0_90_1A_ingresso.jpg` (e le altre scansioni complete).\n",
        "*   **Scala Teorica (DPI):** 600 DPI (dots per inch).\n",
        "    *   Conversione: 1 pollice = 25.4 mm\n",
        "    *   **Scala Originale (px/mm):** `600 / 25.4 = **23.62 pixel per mm**`.\n",
        "*   **Dimensione Fisica Riferimento:** Diametro nominale del foro `D_nom = **6.0 mm**`.\n",
        "*   **Dimensione in Pixel (Teorica):** Sulla scansione originale, un foro da 6 mm dovrebbe avere un diametro di `6.0 mm * 23.62 px/mm ≈ **142 pixel**`.\n",
        "\n",
        "#### **Fase 2: Dal Rilevamento YOLO al Ritaglio della Patch**\n",
        "\n",
        "*   **Script di Riferimento:** `yolorilevazionefori.ipynb` e gli script successivi di ordinamento e crop.\n",
        "*   **Processo:**\n",
        "    1.  YOLO rileva i fori sulla scansione intera (`imgsz=1280` o `(H,W)` nativa).\n",
        "    2.  Le coordinate delle bounding box vengono salvate e ordinate con K-Means (l'ordinamento bustrofedico).\n",
        "    3.  Uno script di crop prende il centro `(cx, cy)` di ogni foro rilevato.\n",
        "    4.  Viene ritagliata una patch quadrata attorno a quel centro. Hai usato `HS = 350` (patch 700x700) e `HS = 256` (patch 512x512).\n",
        "    5.  **IL PASSAGGIO CRUCIALE:** In uno degli script, c'è `patch = cv2.resize(patch, (TARGET_SIZE, TARGET_SIZE), ...)` dove `TARGET_SIZE` è `512`.\n",
        "\n",
        "#### **Fase 3: La Patch Radiografica (L'Input per la UNet)**\n",
        "\n",
        "*   **Immagine di Riferimento:** L'immagine della patch singola che mi hai mostrato.\n",
        "*   **Dimensione:** **512x512 pixel**.\n",
        "*   **Il Problema:** Questa immagine è il risultato del `resize` della Fase 2. La sua scala in `pixel/mm` **NON è più 23.62**. È una nuova scala che dobbiamo calcolare.\n",
        "\n",
        "#### **Fase 4: La Maschera Predetta (L'Output della UNet)**\n",
        "\n",
        "*   **Immagine di Riferimento:** L'immagine della maschera in bianco e nero che mi hai mostrato.\n",
        "*   **Dimensione:** **512x512 pixel** (la stessa della patch di input).\n",
        "*   **Contenuto:** I valori dei pixel rappresentano le classi (es. 0=Sfondo, 1=Foro, 2=Danno).\n",
        "*   **Obiettivo:** Misurare l'area e il DMAX del danno (pixel di classe 2) su questa maschera e convertirli in `mm²` e `mm` usando la scala corretta.\n"
      ],
      "metadata": {
        "id": "eQnAoHCEIt-X"
      }
    },
    {
      "cell_type": "code",
      "execution_count": null,
      "metadata": {
        "id": "KZAJqEP8IrAF"
      },
      "outputs": [],
      "source": []
    }
  ]
}